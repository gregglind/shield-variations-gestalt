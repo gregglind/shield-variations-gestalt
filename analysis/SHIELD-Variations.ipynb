{
 "cells": [
  {
   "cell_type": "markdown",
   "metadata": {},
   "source": [
    "### SHIELD Variations, Data Pull and Analysis"
   ]
  },
  {
   "cell_type": "code",
   "execution_count": 10,
   "metadata": {
    "collapsed": false,
    "scrolled": true
   },
   "outputs": [
    {
     "name": "stdout",
     "output_type": "stream",
     "text": [
      "Populating the interactive namespace from numpy and matplotlib\n"
     ]
    }
   ],
   "source": [
    "import ujson as json\n",
    "import matplotlib.pyplot as plt\n",
    "import pandas as pd\n",
    "import numpy as np\n",
    "import plotly.plotly as py\n",
    "\n",
    "from moztelemetry import get_pings, get_pings_properties, get_one_ping_per_client, get_clients_history\n",
    "\n",
    "from pprint import pprint as pp\n",
    "\n",
    "%pylab inline"
   ]
  },
  {
   "cell_type": "code",
   "execution_count": 3,
   "metadata": {
    "collapsed": false
   },
   "outputs": [
    {
     "data": {
      "text/plain": [
       "16"
      ]
     },
     "execution_count": 3,
     "metadata": {},
     "output_type": "execute_result"
    }
   ],
   "source": [
    "sc.defaultParallelism"
   ]
  },
  {
   "cell_type": "code",
   "execution_count": 4,
   "metadata": {
    "collapsed": true
   },
   "outputs": [],
   "source": [
    "# helpers and utils\n",
    "\n",
    "import datetime as DT\n",
    "DAYS=7\n",
    "today = DT.date.today()\n",
    "week_ago = today - DT.timedelta(days=DAYS)\n",
    "week_ago_fmt = week_ago.strftime(\"%Y%m%d\")\n",
    "today_fmt = today.strftime(\"%Y%m%d\")\n",
    "\n",
    "PINGNAME = 'x-shield-trials'\n"
   ]
  },
  {
   "cell_type": "markdown",
   "metadata": {},
   "source": [
    "### Extract, Transform, Analyze\n",
    "\n",
    "0.  [docs](https://github.com/mozilla/python_moztelemetry/blob/master/moztelemetry/spark.py)\n",
    "1.  Get all heartbeat pings\n"
   ]
  },
  {
   "cell_type": "code",
   "execution_count": 5,
   "metadata": {
    "collapsed": false
   },
   "outputs": [],
   "source": [
    "kwargs = dict(\n",
    "    doc_type=\"OTHER\", \n",
    "    submission_date=(week_ago_fmt,today_fmt),\n",
    "    app=\"Firefox\"\n",
    ")\n",
    "\n",
    "pings = get_pings(sc, channel=\"release\", **kwargs).union(\n",
    "        get_pings(sc, channel=\"aurora\",  **kwargs)).union(\n",
    "        get_pings(sc, channel=\"beta\",    **kwargs)).union(\n",
    "        get_pings(sc, channel=\"nightly\", **kwargs))\n",
    "\n",
    "pings = pings.filter(lambda p: p[\"meta\"][\"docType\"] == PINGNAME)\n"
   ]
  },
  {
   "cell_type": "code",
   "execution_count": 6,
   "metadata": {
    "collapsed": false
   },
   "outputs": [
    {
     "data": {
      "text/plain": [
       "{u'application': {u'architecture': u'x86-64',\n",
       "  u'buildId': u'20160210153822',\n",
       "  u'channel': u'release',\n",
       "  u'name': u'Firefox',\n",
       "  u'platformVersion': u'44.0.2',\n",
       "  u'vendor': u'Mozilla',\n",
       "  u'version': u'44.0.2',\n",
       "  u'xpcomAbi': u'x86_64-gcc3'},\n",
       " u'creationDate': u'2016-02-28T17:08:11.942Z',\n",
       " u'id': u'5bec0b39-2c20-f445-9071-7b6af4083f4d',\n",
       " 'meta': {u'DNT': u'1',\n",
       "  u'Host': u'incoming.telemetry.mozilla.org',\n",
       "  'Hostname': u'ip-172-31-38-72',\n",
       "  u'Size': 431.0,\n",
       "  'Timestamp': 1456679350433673984L,\n",
       "  'Type': u'telemetry',\n",
       "  u'appBuildId': u'20160210153822',\n",
       "  u'appName': u'Firefox',\n",
       "  u'appUpdateChannel': u'release',\n",
       "  u'appVendor': u'Mozilla',\n",
       "  u'appVersion': u'44.0.2',\n",
       "  u'creationTimestamp': 1.4566792919419999e+18,\n",
       "  u'docType': u'x-shield-trials',\n",
       "  u'documentId': u'5bec0b39-2c20-f445-9071-7b6af4083f4d',\n",
       "  u'geoCity': u'Portland',\n",
       "  u'geoCountry': u'US',\n",
       "  u'normalizedChannel': u'release',\n",
       "  u'sourceName': u'telemetry',\n",
       "  u'sourceVersion': u'4',\n",
       "  u'submissionDate': u'20160228'},\n",
       " u'payload': {u'branch': u'a',\n",
       "  u'firstrun': u'1456507964000',\n",
       "  u'name': u'gregg experiment 1',\n",
       "  u'who': u'/Users/mgrimes/Downloads'},\n",
       " u'type': u'x-shield-trials',\n",
       " u'version': 4}"
      ]
     },
     "execution_count": 6,
     "metadata": {},
     "output_type": "execute_result"
    }
   ],
   "source": [
    "pings.count()\n",
    "pings.first()\n"
   ]
  },
  {
   "cell_type": "code",
   "execution_count": 7,
   "metadata": {
    "collapsed": false
   },
   "outputs": [
    {
     "name": "stdout",
     "output_type": "stream",
     "text": [
      "[(u'/Users/mgrimes/Downloads', u'gregg experiment 1', u'a', 0), (u'C:\\\\Users\\\\rjweiss\\\\Downloads', u'gregg experiment 1', u'b', 280), (u'/Users/mgrimes/Downloads', u'gregg experiment 1', u'a', 1983), (u'/Users/glind/Downloads', u'gregg experiment 1', u'a', 0), (u'C:\\\\Users\\\\rjweiss\\\\Downloads', u'gregg experiment 1', u'b', -1), (u'/Users/glind/Downloads', u'gregg experiment 1', u'b', 0), (u'C:\\\\Users\\\\rjweiss\\\\Downloads', u'gregg experiment 1', u'b', 931), (u'/var/folders/0z/4g3t_26s3gv835xswsslbn400000gq/T/f8683aca-209c-4e6b-8e08-5d2081219781', u'gregg experiment 1', u'a', 0)]\n"
     ]
    },
    {
     "data": {
      "text/plain": [
       "defaultdict(int,\n",
       "            {(u'gregg experiment 1', u'a', 0): 3,\n",
       "             (u'gregg experiment 1', u'a', 1983): 1,\n",
       "             (u'gregg experiment 1', u'b', -1): 1,\n",
       "             (u'gregg experiment 1', u'b', 0): 1,\n",
       "             (u'gregg experiment 1', u'b', 280): 1,\n",
       "             (u'gregg experiment 1', u'b', 931): 1})"
      ]
     },
     "execution_count": 7,
     "metadata": {},
     "output_type": "execute_result"
    }
   ],
   "source": [
    "## here is the final report.\n",
    "def daysSinceLaunch(jsnow, jslaunch):\n",
    "    # this can be affected by clockSkew\n",
    "    \n",
    "    if (jsnow < jslaunch): return -1  # problem.\n",
    "    return int(divmod(jsnow - jslaunch, 86400)[0])  # n days.\n",
    "    \n",
    "def getFields(ping):\n",
    "    payload = ping['payload']\n",
    "    return (\n",
    "        payload['who'],\n",
    "        payload['name'],\n",
    "        payload['branch'],\n",
    "        \n",
    "        ## this is buggy / wrong\n",
    "        daysSinceLaunch(ping['meta']['Timestamp']/(10e5),int(payload['firstrun']))\n",
    "    )\n",
    "    return \n",
    "\n",
    "def reducedFields (ping_tuple):\n",
    "    return ping_tuple[1:]  # drop who            \n",
    "              \n",
    "data = pings.map(getFields).distinct()\n",
    "print data.collect()\n",
    "\n",
    "data.map(reducedFields).countByValue()\n",
    "\n",
    "# make a much much nicer report here, for each experiment, for each branch...  N ever seen, % alive on day 3, total hours, etc.\n"
   ]
  },
  {
   "cell_type": "code",
   "execution_count": 12,
   "metadata": {
    "collapsed": false
   },
   "outputs": [
    {
     "data": {
      "text/plain": [
       "     experiment          branch  days \n",
       "who  gregg experiment 1  a        0       3\n",
       "                                  1983    1\n",
       "                         b       -1       1\n",
       "                                  0       1\n",
       "                                  280     1\n",
       "                                  931     1\n",
       "dtype: int64"
      ]
     },
     "execution_count": 12,
     "metadata": {},
     "output_type": "execute_result"
    }
   ],
   "source": [
    "from pprint import pprint as pp\n",
    "\n",
    "df = pd.DataFrame(data.collect(),columns=['who','experiment','branch','days'])\n",
    "\n",
    "pd.pivot_table(df, columns=('experiment','branch','days'),aggfunc=lambda x: len(set(x)))"
   ]
  },
  {
   "cell_type": "code",
   "execution_count": 13,
   "metadata": {
    "collapsed": false
   },
   "outputs": [
    {
     "data": {
      "text/plain": [
       "[(u'/Users/mgrimes/Downloads', u'gregg experiment 1', u'a', 0),\n",
       " (u'C:\\\\Users\\\\rjweiss\\\\Downloads', u'gregg experiment 1', u'b', 280),\n",
       " (u'/Users/mgrimes/Downloads', u'gregg experiment 1', u'a', 1983),\n",
       " (u'/Users/glind/Downloads', u'gregg experiment 1', u'a', 0),\n",
       " (u'C:\\\\Users\\\\rjweiss\\\\Downloads', u'gregg experiment 1', u'b', -1),\n",
       " (u'/Users/glind/Downloads', u'gregg experiment 1', u'b', 0),\n",
       " (u'C:\\\\Users\\\\rjweiss\\\\Downloads', u'gregg experiment 1', u'b', 931),\n",
       " (u'/var/folders/0z/4g3t_26s3gv835xswsslbn400000gq/T/f8683aca-209c-4e6b-8e08-5d2081219781',\n",
       "  u'gregg experiment 1',\n",
       "  u'a',\n",
       "  0)]"
      ]
     },
     "execution_count": 13,
     "metadata": {},
     "output_type": "execute_result"
    }
   ],
   "source": [
    "data.collect()"
   ]
  },
  {
   "cell_type": "code",
   "execution_count": null,
   "metadata": {
    "collapsed": true
   },
   "outputs": [],
   "source": []
  }
 ],
 "metadata": {
  "kernelspec": {
   "display_name": "Python 2",
   "language": "python",
   "name": "python2"
  },
  "language_info": {
   "codemirror_mode": {
    "name": "ipython",
    "version": 2
   },
   "file_extension": ".py",
   "mimetype": "text/x-python",
   "name": "python",
   "nbconvert_exporter": "python",
   "pygments_lexer": "ipython2",
   "version": "2.7.10"
  }
 },
 "nbformat": 4,
 "nbformat_minor": 0
}

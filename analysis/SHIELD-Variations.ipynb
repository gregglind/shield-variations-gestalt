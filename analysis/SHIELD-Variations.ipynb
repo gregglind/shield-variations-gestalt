{
 "cells": [
  {
   "cell_type": "markdown",
   "metadata": {},
   "source": [
    "### SHIELD Variations, Data Pull and Analysis"
   ]
  },
  {
   "cell_type": "code",
   "execution_count": 14,
   "metadata": {
    "collapsed": false,
    "scrolled": true
   },
   "outputs": [
    {
     "name": "stdout",
     "output_type": "stream",
     "text": [
      "Populating the interactive namespace from numpy and matplotlib\n"
     ]
    }
   ],
   "source": [
    "import ujson as json\n",
    "import matplotlib.pyplot as plt\n",
    "import pandas as pd\n",
    "import numpy as np\n",
    "import plotly.plotly as py\n",
    "\n",
    "from moztelemetry import get_pings, get_pings_properties, get_one_ping_per_client, get_clients_history\n",
    "\n",
    "from pprint import pprint as pp\n",
    "\n",
    "%pylab inline"
   ]
  },
  {
   "cell_type": "code",
   "execution_count": 15,
   "metadata": {
    "collapsed": false
   },
   "outputs": [
    {
     "data": {
      "text/plain": [
       "16"
      ]
     },
     "execution_count": 15,
     "metadata": {},
     "output_type": "execute_result"
    }
   ],
   "source": [
    "sc.defaultParallelism"
   ]
  },
  {
   "cell_type": "code",
   "execution_count": 35,
   "metadata": {
    "collapsed": true
   },
   "outputs": [],
   "source": [
    "# helpers and utils\n",
    "\n",
    "import datetime as DT\n",
    "DAYS=14\n",
    "today = DT.date.today()\n",
    "week_ago = today - DT.timedelta(days=DAYS)\n",
    "week_ago_fmt = week_ago.strftime(\"%Y%m%d\")\n",
    "today_fmt = today.strftime(\"%Y%m%d\")\n",
    "\n",
    "PINGNAME = 'x-shield-trials'\n"
   ]
  },
  {
   "cell_type": "markdown",
   "metadata": {},
   "source": [
    "### Extract, Transform, Analyze\n",
    "\n",
    "0.  [docs](https://github.com/mozilla/python_moztelemetry/blob/master/moztelemetry/spark.py)\n",
    "1.  Get all heartbeat pings\n"
   ]
  },
  {
   "cell_type": "code",
   "execution_count": 41,
   "metadata": {
    "collapsed": false
   },
   "outputs": [],
   "source": [
    "kwargs = dict(\n",
    "    doc_type=\"OTHER\", \n",
    "    submission_date=(week_ago_fmt,today_fmt),\n",
    "    app=\"Firefox\"\n",
    ")\n",
    "\n",
    "def pingVersion(ping):\n",
    "    v = ping['payload'].get('version','0.0.0').split(\".\")\n",
    "    v = tuple(map(int,v))\n",
    "    return v\n",
    "\n",
    "pings = get_pings(sc, channel=\"release\", **kwargs).union(\n",
    "        get_pings(sc, channel=\"aurora\",  **kwargs)).union(\n",
    "        get_pings(sc, channel=\"beta\",    **kwargs)).union(\n",
    "        get_pings(sc, channel=\"nightly\", **kwargs))\n",
    "\n",
    "pings = pings.filter(lambda p: p[\"meta\"][\"docType\"] == PINGNAME)\n",
    "pings = pings.filter(lambda p: pingVersion(p) >= (0,0,16))"
   ]
  },
  {
   "cell_type": "code",
   "execution_count": 42,
   "metadata": {
    "collapsed": false
   },
   "outputs": [
    {
     "data": {
      "text/plain": [
       "{u'application': {u'architecture': u'x86-64',\n",
       "  u'buildId': u'20151029151421',\n",
       "  u'channel': u'release',\n",
       "  u'name': u'Firefox',\n",
       "  u'platformVersion': u'42.0',\n",
       "  u'vendor': u'Mozilla',\n",
       "  u'version': u'42.0',\n",
       "  u'xpcomAbi': u'x86_64-gcc3'},\n",
       " u'creationDate': u'2016-03-01T15:08:38.622Z',\n",
       " u'environment': {u'addons': {u'activeAddons': {u'@x-addon-shield-trials-1': {u'appDisabled': False,\n",
       "     u'blocklisted': False,\n",
       "     u'description': u'Screen Draw Performance Enhancements.',\n",
       "     u'foreignInstall': True,\n",
       "     u'hasBinaryComponents': False,\n",
       "     u'installDay': 16861,\n",
       "     u'name': u'x-addon-shield-trials-1',\n",
       "     u'scope': 1,\n",
       "     u'signedState': 0,\n",
       "     u'type': u'extension',\n",
       "     u'updateDay': 16861,\n",
       "     u'userDisabled': False,\n",
       "     u'version': u'0.0.16'}},\n",
       "   u'activeExperiment': {},\n",
       "   u'activeGMPlugins': {u'gmp-gmpopenh264': {u'applyBackgroundUpdates': 1,\n",
       "     u'userDisabled': False}},\n",
       "   u'activePlugins': [{u'blocklisted': False,\n",
       "     u'clicktoplay': True,\n",
       "     u'description': u'5.1.20513.0',\n",
       "     u'disabled': False,\n",
       "     u'mimeTypes': [u'application/x-silverlight',\n",
       "      u'application/x-silverlight-2'],\n",
       "     u'name': u'Silverlight Plug-In',\n",
       "     u'updateDay': 15838,\n",
       "     u'version': u'5.1.20513.0'},\n",
       "    {u'blocklisted': False,\n",
       "     u'clicktoplay': True,\n",
       "     u'description': u'Displays Java applet content, or a placeholder if Java is not installed.',\n",
       "     u'disabled': False,\n",
       "     u'mimeTypes': [u'application/x-java-applet;version=1.1.3',\n",
       "      u'application/x-java-applet',\n",
       "      u'application/x-java-applet;version=1.2.2',\n",
       "      u'application/x-java-applet;version=1.5',\n",
       "      u'application/x-java-vm',\n",
       "      u'application/x-java-applet;version=1.3.1',\n",
       "      u'application/x-java-applet;version=1.3',\n",
       "      u'application/x-java-applet;version=1.1.2',\n",
       "      u'application/x-java-applet;version=1.1',\n",
       "      u'application/x-java-vm-npruntime',\n",
       "      u'application/x-java-applet;version=1.2.1',\n",
       "      u'application/x-java-applet;jpi-version=1.6.0_65',\n",
       "      u'application/x-java-applet;version=1.4.2',\n",
       "      u'application/x-java-applet;version=1.6',\n",
       "      u'application/x-java-applet;version=1.4',\n",
       "      u'application/x-java-applet;version=1.1.1',\n",
       "      u'application/x-java-applet;version=1.2'],\n",
       "     u'name': u'Java Applet Plug-in',\n",
       "     u'updateDay': 16663,\n",
       "     u'version': u'15.0.1'},\n",
       "    {u'blocklisted': False,\n",
       "     u'clicktoplay': True,\n",
       "     u'description': u'Provides information about the default web browser',\n",
       "     u'disabled': False,\n",
       "     u'mimeTypes': [u'application/apple-default-browser'],\n",
       "     u'name': u'Default Browser Helper',\n",
       "     u'updateDay': 16780,\n",
       "     u'version': u'601'},\n",
       "    {u'blocklisted': False,\n",
       "     u'clicktoplay': True,\n",
       "     u'description': u'Version 5.41.3.0',\n",
       "     u'disabled': False,\n",
       "     u'mimeTypes': [u'application/googletalk'],\n",
       "     u'name': u'Google Talk Plugin',\n",
       "     u'updateDay': 16780,\n",
       "     u'version': u'5.41.3.0'},\n",
       "    {u'blocklisted': False,\n",
       "     u'clicktoplay': True,\n",
       "     u'description': u'Version 5.41.3.0',\n",
       "     u'disabled': False,\n",
       "     u'mimeTypes': [u'application/o1d'],\n",
       "     u'name': u'Google Talk Plugin Video Renderer',\n",
       "     u'updateDay': 16780,\n",
       "     u'version': u'5.41.3.0'},\n",
       "    {u'blocklisted': False,\n",
       "     u'clicktoplay': False,\n",
       "     u'description': u'Shockwave Flash 20.0 r0',\n",
       "     u'disabled': False,\n",
       "     u'mimeTypes': [u'application/x-shockwave-flash',\n",
       "      u'application/futuresplash'],\n",
       "     u'name': u'Shockwave Flash',\n",
       "     u'updateDay': 16840,\n",
       "     u'version': u'20.0.0.306'},\n",
       "    {u'blocklisted': False,\n",
       "     u'clicktoplay': False,\n",
       "     u'description': u'WebEx64 General Plugin Container Version 205',\n",
       "     u'disabled': False,\n",
       "     u'mimeTypes': [u'application/webx-gpc-plugin64'],\n",
       "     u'name': u'WebEx64 General Plugin Container',\n",
       "     u'updateDay': 16433,\n",
       "     u'version': u'1.0'}],\n",
       "   u'theme': {u'appDisabled': False,\n",
       "    u'blocklisted': False,\n",
       "    u'description': u'The default theme.',\n",
       "    u'foreignInstall': False,\n",
       "    u'hasBinaryComponents': False,\n",
       "    u'id': u'{972ce4c6-7e08-4474-a285-3208198ce6fd}',\n",
       "    u'installDay': 16738,\n",
       "    u'name': u'Default',\n",
       "    u'scope': 4,\n",
       "    u'updateDay': 16738,\n",
       "    u'userDisabled': False,\n",
       "    u'version': u'42.0'}},\n",
       "  u'build': {u'applicationId': u'{ec8030f7-c20a-464f-9b0e-13a3a9e97384}',\n",
       "   u'applicationName': u'Firefox',\n",
       "   u'architecture': u'x86-64',\n",
       "   u'architecturesInBinary': u'i386-x86_64',\n",
       "   u'buildId': u'20151029151421',\n",
       "   u'platformVersion': u'42.0',\n",
       "   u'vendor': u'Mozilla',\n",
       "   u'version': u'42.0',\n",
       "   u'xpcomAbi': u'x86_64-gcc3'},\n",
       "  u'partner': {u'partnerNames': {}},\n",
       "  u'profile': {},\n",
       "  u'settings': {u'addonCompatibilityCheckEnabled': True,\n",
       "   u'blocklistEnabled': False,\n",
       "   u'e10sEnabled': False,\n",
       "   u'isDefaultBrowser': False,\n",
       "   u'isInOptoutSample': False,\n",
       "   u'locale': u'en-US',\n",
       "   u'telemetryEnabled': False,\n",
       "   u'update': {u'autoDownload': False,\n",
       "    u'channel': u'release',\n",
       "    u'enabled': False},\n",
       "   u'userPrefs': {u'app.update.auto': False,\n",
       "    u'app.update.enabled': False,\n",
       "    u'browser.shell.checkDefaultBrowser': False,\n",
       "    u'browser.startup.homepage': u'<user-set>',\n",
       "    u'browser.startup.page': 0,\n",
       "    u'devtools.chrome.enabled': True,\n",
       "    u'devtools.debugger.remote-enabled': True,\n",
       "    u'extensions.autoDisableScopes': 10,\n",
       "    u'extensions.blocklist.enabled': False,\n",
       "    u'extensions.blocklist.url': u'http://localhost/extensions-dummy/blocklistURL',\n",
       "    u'extensions.enabledScopes': 5,\n",
       "    u'extensions.update.enabled': False,\n",
       "    u'extensions.update.url': u'http://localhost/extensions-dummy/updateURL',\n",
       "    u'xpinstall.signatures.required': u'<user-set>'}},\n",
       "  u'system': {u'cpu': {u'count': 4,\n",
       "    u'extensions': [u'hasMMX',\n",
       "     u'hasSSE',\n",
       "     u'hasSSE2',\n",
       "     u'hasSSE3',\n",
       "     u'hasSSSE3',\n",
       "     u'hasSSE4_1',\n",
       "     u'hasSSE4_2']},\n",
       "   u'gfx': {u'adapters': [{u'GPUActive': True,\n",
       "      u'deviceID': u'0x162b',\n",
       "      u'vendorID': u'0x8086'}],\n",
       "    u'features': {u'compositor': u'none'},\n",
       "    u'monitors': [{u'scale': 2, u'screenHeight': 800, u'screenWidth': 1280}]},\n",
       "   u'hdd': {u'binary': {}, u'profile': {}, u'system': {}},\n",
       "   u'memoryMB': 16384,\n",
       "   u'os': {u'locale': u'en-US', u'name': u'Darwin', u'version': u'15.3.0'}}},\n",
       " u'id': u'82ea9ee8-339b-f14a-b39f-fd41540efcc6',\n",
       " 'meta': {u'Host': u'incoming.telemetry.mozilla.org',\n",
       "  'Hostname': u'ip-172-31-15-147',\n",
       "  u'Size': 5597.0,\n",
       "  'Timestamp': 1456844974883258880L,\n",
       "  'Type': u'telemetry',\n",
       "  u'appBuildId': u'20151029151421',\n",
       "  u'appName': u'Firefox',\n",
       "  u'appUpdateChannel': u'release',\n",
       "  u'appVendor': u'Mozilla',\n",
       "  u'appVersion': u'42.0',\n",
       "  u'creationTimestamp': 1.4568449186219999e+18,\n",
       "  u'docType': u'x-shield-trials',\n",
       "  u'documentId': u'82ea9ee8-339b-f14a-b39f-fd41540efcc6',\n",
       "  u'geoCity': u'Minneapolis',\n",
       "  u'geoCountry': u'US',\n",
       "  u'normalizedChannel': u'release',\n",
       "  u'os': u'Darwin',\n",
       "  u'sourceName': u'telemetry',\n",
       "  u'sourceVersion': u'4',\n",
       "  u'submissionDate': u'20160301',\n",
       "  u'telemetryEnabled': False},\n",
       " u'payload': {u'duration': 7,\n",
       "  u'firstrun': u'1456844918000',\n",
       "  u'msg': u'install',\n",
       "  u'name': u'screen performance A',\n",
       "  u'surveyUrl': u'https://qsurvey.mozilla.com/s3/X-Firefox-Preformance-Trial',\n",
       "  u'variation': u'control',\n",
       "  u'version': u'0.0.16',\n",
       "  u'who': u'/Users/glind/Downloads'},\n",
       " u'type': u'x-shield-trials',\n",
       " u'version': 4}"
      ]
     },
     "execution_count": 42,
     "metadata": {},
     "output_type": "execute_result"
    }
   ],
   "source": [
    "pings.count()\n",
    "pings.first()\n"
   ]
  },
  {
   "cell_type": "code",
   "execution_count": 32,
   "metadata": {
    "collapsed": false
   },
   "outputs": [
    {
     "name": "stdout",
     "output_type": "stream",
     "text": [
      "[(u'/Users/mgrimes/Downloads', u'gregg experiment 1', u'a', 0),\n",
      " (u'/Users/glind/Downloads', u'gregg experiment 1', u'a', 0),\n",
      " (u'C:\\\\Users\\\\rjweiss\\\\Downloads', u'gregg experiment 1', u'b', -1),\n",
      " (u'/Users/glind/Downloads', u'gregg experiment 1', u'agressive', 0),\n",
      " (u'C:\\\\Users\\\\rjweiss\\\\Downloads', u'gregg experiment 1', u'b', 0),\n",
      " (u'/Users/mgrimes/Downloads', u'gregg experiment 1', u'a', 1),\n",
      " (u'/Users/glind/Downloads', u'gregg experiment 1', u'agressive', 2314),\n",
      " (u'/Users/glind/Downloads', u'gregg experiment 1', u'b', 0),\n",
      " (u'/Users/glind/Downloads', u'gregg experiment 1', u'medium', 0),\n",
      " (u'/var/folders/0z/4g3t_26s3gv835xswsslbn400000gq/T/f8683aca-209c-4e6b-8e08-5d2081219781',\n",
      "  u'gregg experiment 1',\n",
      "  u'a',\n",
      "  0)]\n"
     ]
    }
   ],
   "source": [
    "## here is the final report.\n",
    "def daysSinceLaunch(jsnow, jslaunch):\n",
    "    # this can be affected by clockSkew\n",
    "    \n",
    "    if (jsnow < jslaunch): return -1  # problem.\n",
    "    return int(divmod(jsnow - jslaunch, 86400*1000)[0])  # n days.\n",
    "    \n",
    "def getFields(ping):\n",
    "    payload = ping['payload']\n",
    "    return (\n",
    "        payload['who'],\n",
    "        payload['name'],\n",
    "        payload.get('branch', payload.get('variation','unk')),\n",
    "        \n",
    "        ## this is buggy / wrong\n",
    "        daysSinceLaunch(ping['meta']['Timestamp']/(10**6),int(payload['firstrun'])),\n",
    "        #int(payload['firstrun']),\n",
    "        #ping['meta']['Timestamp']\n",
    "        \n",
    "    )\n",
    "    return \n",
    "\n",
    "def reducedFields (ping_tuple):\n",
    "    return ping_tuple[1:]  # drop who            \n",
    "              \n",
    "data = pings.map(getFields).distinct()\n",
    "#data = pings.map(lambda x: (x['payload'],x['meta']['Timestamp']))\n",
    "pp(data.collect())\n",
    "\n",
    "#data.map(reducedFields).countByValue()\n",
    "\n",
    "# make a much much nicer report here, for each experiment, for each branch...  N ever seen, % alive on day 3, total hours, etc.\n"
   ]
  },
  {
   "cell_type": "code",
   "execution_count": 33,
   "metadata": {
    "collapsed": false
   },
   "outputs": [
    {
     "data": {
      "text/plain": [
       "     experiment          branch     days \n",
       "who  gregg experiment 1  a           0       3\n",
       "                                     1       1\n",
       "                         agressive   0       1\n",
       "                                     2314    1\n",
       "                         b          -1       1\n",
       "                                     0       2\n",
       "                         medium      0       1\n",
       "dtype: int64"
      ]
     },
     "execution_count": 33,
     "metadata": {},
     "output_type": "execute_result"
    }
   ],
   "source": [
    "from pprint import pprint as pp\n",
    "\n",
    "df = pd.DataFrame(data.collect(),columns=['who','experiment','branch','days'])\n",
    "\n",
    "pd.pivot_table(df, columns=('experiment','branch','days'),aggfunc=lambda x: len(set(x)))"
   ]
  },
  {
   "cell_type": "code",
   "execution_count": 34,
   "metadata": {
    "collapsed": false
   },
   "outputs": [
    {
     "data": {
      "text/plain": [
       "[(u'/Users/mgrimes/Downloads', u'gregg experiment 1', u'a', 0),\n",
       " (u'/Users/glind/Downloads', u'gregg experiment 1', u'a', 0),\n",
       " (u'C:\\\\Users\\\\rjweiss\\\\Downloads', u'gregg experiment 1', u'b', -1),\n",
       " (u'/Users/glind/Downloads', u'gregg experiment 1', u'agressive', 0),\n",
       " (u'C:\\\\Users\\\\rjweiss\\\\Downloads', u'gregg experiment 1', u'b', 0),\n",
       " (u'/Users/mgrimes/Downloads', u'gregg experiment 1', u'a', 1),\n",
       " (u'/Users/glind/Downloads', u'gregg experiment 1', u'agressive', 2314),\n",
       " (u'/Users/glind/Downloads', u'gregg experiment 1', u'b', 0),\n",
       " (u'/Users/glind/Downloads', u'gregg experiment 1', u'medium', 0),\n",
       " (u'/var/folders/0z/4g3t_26s3gv835xswsslbn400000gq/T/f8683aca-209c-4e6b-8e08-5d2081219781',\n",
       "  u'gregg experiment 1',\n",
       "  u'a',\n",
       "  0)]"
      ]
     },
     "execution_count": 34,
     "metadata": {},
     "output_type": "execute_result"
    }
   ],
   "source": [
    "data.collect()"
   ]
  },
  {
   "cell_type": "code",
   "execution_count": null,
   "metadata": {
    "collapsed": true
   },
   "outputs": [],
   "source": []
  }
 ],
 "metadata": {
  "kernelspec": {
   "display_name": "Python 2",
   "language": "python",
   "name": "python2"
  },
  "language_info": {
   "codemirror_mode": {
    "name": "ipython",
    "version": 2
   },
   "file_extension": ".py",
   "mimetype": "text/x-python",
   "name": "python",
   "nbconvert_exporter": "python",
   "pygments_lexer": "ipython2",
   "version": "2.7.10"
  }
 },
 "nbformat": 4,
 "nbformat_minor": 0
}
